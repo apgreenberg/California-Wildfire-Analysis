{
 "cells": [
  {
   "cell_type": "code",
   "execution_count": 1,
   "metadata": {},
   "outputs": [],
   "source": [
    "#Final Project\n",
    "#Each layer had to be prepared with geoprocessing tools before it could be used"
   ]
  },
  {
   "cell_type": "code",
   "execution_count": 2,
   "metadata": {},
   "outputs": [],
   "source": [
    "#inport the necessary packages and set up the environment\n",
    "import arcpy\n",
    "from arcpy import env\n",
    "from arcpy.sa import *\n",
    "\n",
    "# Overwrite\n",
    "env.overwriteOutput = True\n",
    "\n",
    "# set up workspace\n",
    "env.workspace = \"C:\\\\Users\\\\arigr\\\\Documents\\\\geog380\\\\final_project\""
   ]
  },
  {
   "cell_type": "code",
   "execution_count": 3,
   "metadata": {},
   "outputs": [
    {
     "name": "stdout",
     "output_type": "stream",
     "text": [
      "Start Time: Tuesday, December 15, 2020 7:45:40 PM\n",
      "Succeeded at Tuesday, December 15, 2020 7:45:44 PM (Elapsed Time: 4.44 seconds)\n"
     ]
    }
   ],
   "source": [
    "#Step 1: prepare data\n",
    "#1a: Prepare population data\n",
    "inputshp = \"caltracts/tl_2016_06_tract.shp\"\n",
    "inputcsv = \"caltractppop.csv\"\n",
    "outputshp = \"population.shp\"\n",
    "outputtif = \"population.tif\"\n",
    "\n",
    "#Join the census tract shapefile data with the census tract population data\n",
    "#Convert to raster\n",
    "arcpy.MakeFeatureLayer_management(inputshp, \"tempLayer\")\n",
    "arcpy.AddJoin_management(\"tempLayer\", \"GEOIDD\", inputcsv, \"GEOID\", \"KEEP_COMMON\")\n",
    "arcpy.FeatureToRaster_conversion(\"tempLayer\", \"POP100\", outputtif)\n",
    "print(arcpy.GetMessages())\n"
   ]
  },
  {
   "cell_type": "code",
   "execution_count": 4,
   "metadata": {},
   "outputs": [
    {
     "name": "stdout",
     "output_type": "stream",
     "text": [
      "Start Time: Tuesday, December 15, 2020 7:45:44 PM\n",
      "Succeeded at Tuesday, December 15, 2020 7:45:59 PM (Elapsed Time: 14.70 seconds)\n"
     ]
    }
   ],
   "source": [
    "#1b: Prepare housing unit data\n",
    "inputshp = \"caltracts/tl_2016_06_tract.shp\"\n",
    "inputcsv = \"caltractppop.csv\"\n",
    "outputshp = \"housing.shp\"\n",
    "outputtif = \"housing.tif\"\n",
    "\n",
    "#Join the census tract shapefile data with the census tract population data\n",
    "#Convert to raster\n",
    "arcpy.MakeFeatureLayer_management(inputshp, \"tempLayer\")\n",
    "arcpy.AddJoin_management(\"tempLayer\", \"GEOIDD\", inputcsv, \"GEOID\", \"KEEP_COMMON\")\n",
    "arcpy.FeatureToRaster_conversion(\"tempLayer\", \"HU100\", outputtif, 0.001)\n",
    "print(arcpy.GetMessages())"
   ]
  },
  {
   "cell_type": "code",
   "execution_count": 5,
   "metadata": {},
   "outputs": [
    {
     "name": "stdout",
     "output_type": "stream",
     "text": [
      "Start Time: Tuesday, December 15, 2020 7:47:02 PM\n",
      "Succeeded at Tuesday, December 15, 2020 7:47:16 PM (Elapsed Time: 13.80 seconds)\n"
     ]
    }
   ],
   "source": [
    "#1c: Prepare wind data\n",
    "inputshp = \"californiawindhighresolution/ca_50mwind.shp\"\n",
    "clipshp = \"ca-state-boundary/CA_STATE_TIGER2016.shp\"\n",
    "tempshp = \"tempwind.shp\"\n",
    "outputtif = \"wind.tif\"\n",
    "\n",
    "#Clip the wind data to the California borders (it had ocean data as well)\n",
    "#Convert to raster\n",
    "arcpy.Clip_analysis(inputshp, clipshp, tempshp)\n",
    "arcpy.MakeFeatureLayer_management(tempshp, \"tempLayer\")\n",
    "arcpy.FeatureToRaster_conversion(\"tempLayer\", \"GRIDCODE\", outputtif, 0.1)\n",
    "print(arcpy.GetMessages())"
   ]
  },
  {
   "cell_type": "code",
   "execution_count": 6,
   "metadata": {},
   "outputs": [
    {
     "name": "stdout",
     "output_type": "stream",
     "text": [
      "Start Time: Tuesday, December 15, 2020 7:47:16 PM\n",
      "Building Pyramids...\n",
      "Succeeded at Tuesday, December 15, 2020 7:47:16 PM (Elapsed Time: 0.18 seconds)\n"
     ]
    }
   ],
   "source": [
    "#1d: Prepare temperature data\n",
    "#Some of this has already been done in ArcGIS Pro\n",
    "#The temperature data was originally very complex\n",
    "#I resampled the data to generalize the very specific points given\n",
    "\n",
    "clipshp = \"ca-state-boundary/CA_STATE_TIGER2016.shp\"\n",
    "inputtif = \"October_16.tif\"\n",
    "outputtif = \"temp.tif\"\n",
    "\n",
    "#Clip data to California borders (it was originally all of North America)\n",
    "arcpy.Clip_management(inputtif,\"\", outputtif, clipshp, 0, \"ClippingGeometry\", \"MAINTAIN_EXTENT\")\n",
    "print(arcpy.GetMessages())"
   ]
  },
  {
   "cell_type": "code",
   "execution_count": 7,
   "metadata": {},
   "outputs": [
    {
     "name": "stdout",
     "output_type": "stream",
     "text": [
      "Start Time: Tuesday, December 15, 2020 7:47:23 PM\n",
      "Building Pyramids...\n",
      "Succeeded at Tuesday, December 15, 2020 7:47:23 PM (Elapsed Time: 0.17 seconds)\n"
     ]
    }
   ],
   "source": [
    "#1e: Prepare power line data\n",
    "inputshp = \"California_Transmission_Lines/Transmission_Line.shp\"\n",
    "buffershp = \"powerlinesbuffer.shp\"\n",
    "outputtif = \"powerlines.tif\"\n",
    "\n",
    "#Add a 5 mile buffer around power lines (this was the distance from the Camp Fire ignition site)\n",
    "#Add a new field call 'isPowerLin' ('isPowerLine' was too long for the program)\n",
    "#If an area is within the buffer 'isPowerLin' = 1, otherwise 0\n",
    "#Clip the raster to California boundaries\n",
    "\n",
    "arcpy.Buffer_analysis(inputshp, buffershp, \"5 Miles\", \"FULL\", \"ROUND\")\n",
    "arcpy.MakeFeatureLayer_management(buffershp, \"tempLayer_\")\n",
    "arcpy.AddField_management(\"tempLayer_\", \"isPowerLin\", \"LONG\", 8)\n",
    "arcpy.CalculateField_management(\"tempLayer_\", \"isPowerLin\", 1, \"PYTHON3\")\n",
    "arcpy.FeatureToRaster_conversion(\"tempLayer_\", \"isPowerLin\", \"outputtifc\")\n",
    "clipshp = \"ca-state-boundary/CA_STATE_TIGER2016.shp\"\n",
    "arcpy.MakeFeatureLayer_management(clipshp, \"tempClipLayer\")\n",
    "arcpy.Clip_management(\"outputtifc\",\"\" , outputtif, clipshp, 0, \"ClippingGeometry\", \"MAINTAIN_EXTENT\")\n",
    "print(arcpy.GetMessages())"
   ]
  },
  {
   "cell_type": "code",
   "execution_count": 8,
   "metadata": {},
   "outputs": [
    {
     "name": "stdout",
     "output_type": "stream",
     "text": [
      "Start Time: Tuesday, December 15, 2020 7:47:32 PM\n",
      "Building Pyramids...\n",
      "Succeeded at Tuesday, December 15, 2020 7:47:45 PM (Elapsed Time: 13.40 seconds)\n"
     ]
    }
   ],
   "source": [
    "#1f: Prepare fire risk data\n",
    "#I had to convert gdb down to a single shapefile in arcGIS Pro\n",
    "#Now all I have to do is resample and reclassify because the data is a little bit too complex\n",
    "inputtif = \"riskcomplex.tif\"\n",
    "needsreclasstif = \"riskreclass.tif\"\n",
    "preclip = \"riskpreclip.tif\"\n",
    "outputtif = \"risk.tif\"\n",
    "\n",
    "#Resample the output because it was very complex\n",
    "#Reclassify to set null values (which were represented by -128) to 0\n",
    "arcpy.Resample_management(inputtif, needsreclasstif, \"150 150\", \"NEAREST\")\n",
    "output = Reclassify(needsreclasstif, \"Value\", RemapValue([[-128, 0], [0, 0], [1, 1], [2, 2], [3, 3], [4, 4], [5, 5]]), \"NODATA\")\n",
    "output.save(preclip)\n",
    "#Clip raster to California boundaries\n",
    "clipshp = \"ca-state-boundary/CA_STATE_TIGER2016.shp\"\n",
    "arcpy.Clip_management(preclip,\"\", outputtif, clipshp, 0, \"ClippingGeometry\", \"MAINTAIN_EXTENT\")\n",
    "print(arcpy.GetMessages())"
   ]
  },
  {
   "cell_type": "code",
   "execution_count": 9,
   "metadata": {},
   "outputs": [
    {
     "name": "stdout",
     "output_type": "stream",
     "text": [
      "Start Time: Tuesday, December 15, 2020 7:47:45 PM\n",
      "Building Pyramids...\n",
      "Succeeded at Tuesday, December 15, 2020 7:47:46 PM (Elapsed Time: 0.30 seconds)\n"
     ]
    }
   ],
   "source": [
    "#1g: Prepare fire frequency data\n",
    "#just kidding this was already prepared\n",
    "#I already converted PNG to TIF and added the georeferencing in arcGIS Pro\n",
    "#It was a lot easier to add control points in arcGIS than it would have been in arcpy\n",
    "#After this the raster was resampled (because of the border lines between regions)\n",
    "#This removed the lines as much as possible\n",
    "#Then the final output was reclassified so that places with lower than average fire cycles recieved value -1 and higher became 1\n",
    "#All other became 0\n",
    "\n",
    "#Clip raster to California boundaries\n",
    "clipshp = \"ca-state-boundary/CA_STATE_TIGER2016.shp\"\n",
    "inputtif = \"pfridpreclip.tif\"\n",
    "outputtif = \"pfrid.tif\"\n",
    "arcpy.Clip_management(inputtif,\"\", outputtif, clipshp, 0, \"ClippingGeometry\", \"MAINTAIN_EXTENT\")\n",
    "print(arcpy.GetMessages())\n"
   ]
  },
  {
   "cell_type": "code",
   "execution_count": 10,
   "metadata": {},
   "outputs": [
    {
     "name": "stdout",
     "output_type": "stream",
     "text": [
      "Start Time: Tuesday, December 15, 2020 7:47:47 PM\n",
      "Succeeded at Tuesday, December 15, 2020 7:47:47 PM (Elapsed Time: 0.29 seconds)\n"
     ]
    }
   ],
   "source": [
    "#1h: Prepare drought data\n",
    "clipshp = \"ca-state-boundary/CA_STATE_TIGER2016.shp\"\n",
    "inputshp = \"Drought_data/USDM_20201208.shp\"\n",
    "tempshp = \"tempdrought.shp\"\n",
    "outputtif = \"drought.tif\"\n",
    "\n",
    "#Clip the drought data to the California borders (it had ocean data as well)\n",
    "#Convert to raster\n",
    "arcpy.Clip_analysis(inputshp, clipshp, tempshp)\n",
    "arcpy.MakeFeatureLayer_management(tempshp, \"tempLayer\")\n",
    "arcpy.FeatureToRaster_conversion(\"tempLayer\", \"DM\", outputtif, 0.1)\n",
    "print(arcpy.GetMessages())"
   ]
  },
  {
   "cell_type": "code",
   "execution_count": 23,
   "metadata": {
    "scrolled": true
   },
   "outputs": [
    {
     "name": "stdout",
     "output_type": "stream",
     "text": [
      "Start Time: Tuesday, December 15, 2020 12:14:39 PM\n",
      "Succeeded at Tuesday, December 15, 2020 12:14:41 PM (Elapsed Time: 1.17 seconds)\n"
     ]
    }
   ],
   "source": [
    "#1i: Prepare burn area data (Rx and non-Rx)\n",
    "#First I need to select only the fires from the last 20 years\n",
    "#Then I need to convert to raster and set all the places with fires to value=1 and those without value=0\n",
    "burninput = \"California_Fire_Perimeters_1878_-_2019_shp/Burn_areas.shp\"\n",
    "rxburninput = \"California_Fire_Perimeters_1878_-_2019_shp/Prescribed_burns.shp\"\n",
    "\n",
    "burnoutput = \"burn.tif\"\n",
    "rxoutput = \"rxburn.tif\"\n",
    "\n",
    "arcpy.MakeFeatureLayer_management(burninput, \"burntemp\")\n",
    "arcpy.AddField_management(\"burntemp\", \"isburned\", \"LONG\", 8)\n",
    "arcpy.AddField_management(\"burntemp\", \"YEAR\", \"LONG\", 8)\n",
    "arcpy.CalculateField_management(\"burntemp\", \"YEAR\", \"0 if !YEAR_! == ' ' else !YEAR_!\", \"PYTHON3\")\n",
    "arcpy.CalculateField_management(\"burntemp\", \"isburned\", \"1 if !YEAR! > 1990 else 0\", \"PYTHON3\")\n",
    "\n",
    "arcpy.MakeFeatureLayer_management(rxburninput, \"rxburntemp\")\n",
    "arcpy.AddField_management(\"rxburntemp\", \"isburned\", \"LONG\", 8)\n",
    "arcpy.AddField_management(\"rxburntemp\", \"YEAR\", \"LONG\", 8)\n",
    "arcpy.CalculateField_management(\"rxburntemp\", \"YEAR\", \"0 if !YEAR_! == ' ' else !YEAR_!\", \"PYTHON3\")\n",
    "arcpy.CalculateField_management(\"rxburntemp\", \"isburned\", \"1 if !YEAR! > 1990 else 0\", \"PYTHON3\")\n",
    "\n",
    "\n",
    "arcpy.FeatureToRaster_conversion(\"burntemp\", \"isburned\", burnoutput)\n",
    "arcpy.FeatureToRaster_conversion(\"rxburntemp\", \"isburned\", rxoutput)\n",
    "\n",
    "print(arcpy.GetMessages())"
   ]
  },
  {
   "cell_type": "code",
   "execution_count": 18,
   "metadata": {},
   "outputs": [
    {
     "name": "stdout",
     "output_type": "stream",
     "text": [
      "Start Time: Tuesday, December 15, 2020 1:28:48 PM\n",
      "Building Pyramids...\n",
      "Succeeded at Tuesday, December 15, 2020 1:28:48 PM (Elapsed Time: 0.15 seconds)\n"
     ]
    }
   ],
   "source": [
    "#step 2:\n",
    "#Use Raster calculator to normalize and apply importance weights\n",
    "population  = \"population.tif\"\n",
    "housing = \"housing.tif\"\n",
    "risk = \"risk.tif\"\n",
    "powerlines = \"powerlines.tif\"\n",
    "wind = \"wind.tif\"\n",
    "drought = \"drought.tif\"\n",
    "pfrid = \"pfrid.tif\"\n",
    "temperature = \"temp.tif\"\n",
    "burnareas = \"burn.tif\"\n",
    "rxburnareas = \"rxburn.tif\"\n",
    "\n",
    "population_result = \"populationrisk.tif\"\n",
    "housing_result = \"housingrisk.tif\"\n",
    "\n",
    "pop_output = RasterCalculator([population, risk, powerlines, wind, drought, pfrid, temperature, burnareas, rxburnareas], [\"pop\", \"risk\", \"power\", \"wind\", \"drt\", \"pfrid\", \"temp\", \"brn\", \"rxbrn\"], \"pop*(0.55*(risk/5)+(0.1*power)+(0.1*(wind/6))+(0.1*(drt/4))+(0.1*pfrid)+(0.05*((temp+1)/60))+(-0.05*brn)+(-0.05*rxbrn))\", \"UnionOf\", \"MeanOf\")\n",
    "house_output = RasterCalculator([housing, risk, powerlines, wind, drought, pfrid, temperature, burnareas, rxburnareas], [\"house\", \"risk\", \"power\", \"wind\", \"drt\", \"pfrid\", \"temp\", \"brn\", \"rxbrn\"], \"house*(0.55*(risk/5)+(0.1*power)+(0.1*(wind/6))+(0.1*(drt/4))+(0.1*pfrid)+(0.05*((temp+1)/60))+(-0.05*brn)+(-0.05*rxbrn))\", \"UnionOf\", \"MeanOf\")\n",
    "pop_output.save(population_result)\n",
    "house_output.save(housing_result)\n",
    "print(arcpy.GetMessages())"
   ]
  },
  {
   "cell_type": "code",
   "execution_count": null,
   "metadata": {},
   "outputs": [],
   "source": []
  },
  {
   "cell_type": "code",
   "execution_count": null,
   "metadata": {},
   "outputs": [],
   "source": []
  }
 ],
 "metadata": {
  "kernelspec": {
   "display_name": "Python 3",
   "language": "python",
   "name": "python3"
  },
  "language_info": {
   "codemirror_mode": {
    "name": "ipython",
    "version": 3
   },
   "file_extension": ".py",
   "mimetype": "text/x-python",
   "name": "python",
   "nbconvert_exporter": "python",
   "pygments_lexer": "ipython3",
   "version": "3.6.10"
  }
 },
 "nbformat": 4,
 "nbformat_minor": 4
}
